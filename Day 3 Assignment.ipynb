{
 "cells": [
  {
   "cell_type": "markdown",
   "metadata": {},
   "source": [
    "# Question 1"
   ]
  },
  {
   "cell_type": "markdown",
   "metadata": {},
   "source": [
    "Create a numpy array starting from 2 till 50 with a stepsize of 3."
   ]
  },
  {
   "cell_type": "code",
   "execution_count": 2,
   "metadata": {},
   "outputs": [
    {
     "name": "stdout",
     "output_type": "stream",
     "text": [
      "[ 2  5  8 11 14 17 20 23 26 29 32 35 38 41 44 47]\n"
     ]
    }
   ],
   "source": [
    "import numpy as np\n",
    "arr = np.arange(2,50,3)\n",
    "print (arr)"
   ]
  },
  {
   "cell_type": "markdown",
   "metadata": {},
   "source": [
    "# Question 2"
   ]
  },
  {
   "cell_type": "markdown",
   "metadata": {},
   "source": [
    "Accept two lists of 5 elements each from the user.\n",
    "Convert them to numpy arrays. Concatenate these arrays and print it. Also sort these arrays and print it."
   ]
  },
  {
   "cell_type": "code",
   "execution_count": 3,
   "metadata": {},
   "outputs": [
    {
     "name": "stdout",
     "output_type": "stream",
     "text": [
      "Enter value for list 1 :-10\n",
      "Enter value for list 1 :-9\n",
      "Enter value for list 1 :-8\n",
      "Enter value for list 1 :-7\n",
      "Enter value for list 1 :-6\n",
      "Enter value for list 2 :-5\n",
      "Enter value for list 2 :-4\n",
      "Enter value for list 2 :-3\n",
      "Enter value for list 2 :-2\n",
      "Enter value for list 2 :-1\n",
      "Concatenated array :- [10  9  8  7  6  5  4  3  2  1]\n",
      "Sorted array :- [ 1  2  3  4  5  6  7  8  9 10]\n"
     ]
    }
   ],
   "source": [
    "import numpy as np\n",
    "\n",
    "list1 = []\n",
    "list2 = []\n",
    "\n",
    "for i in range (5) :\n",
    "    a = int(input(\"Enter value for list 1 :-\"))\n",
    "    list1.append(a)\n",
    "\n",
    "for i in range (5) :\n",
    "    b = int(input(\"Enter value for list 2 :-\"))\n",
    "    list2.append(b)\n",
    "\n",
    "arr1 = np.array(list1)\n",
    "arr2 = np.array(list2)\n",
    "\n",
    "arr = np.concatenate((arr1,arr2))\n",
    "print(\"Concatenated array :-\",arr)\n",
    "\n",
    "sorting = np.sort(arr)\n",
    "print(\"Sorted array :-\",sorting)"
   ]
  },
  {
   "cell_type": "markdown",
   "metadata": {},
   "source": [
    "# Question 3"
   ]
  },
  {
   "cell_type": "markdown",
   "metadata": {},
   "source": [
    "Write a code snippet to find the dimensions of a ndarray and its size."
   ]
  },
  {
   "cell_type": "code",
   "execution_count": 5,
   "metadata": {},
   "outputs": [
    {
     "name": "stdout",
     "output_type": "stream",
     "text": [
      "Dimension of array :- 2\n",
      "Size of array :- 9\n"
     ]
    }
   ],
   "source": [
    "import numpy as np\n",
    "\n",
    "arr = np.array([[1,2,3] , [4,5,6] , [7,8,9]])\n",
    "\n",
    "print(\"Dimension of array :-\", arr.ndim)\n",
    "print(\"Size of array :-\", arr.size)"
   ]
  },
  {
   "cell_type": "markdown",
   "metadata": {},
   "source": [
    "# Question 4"
   ]
  },
  {
   "cell_type": "markdown",
   "metadata": {},
   "source": [
    "How to convert a 1D array into a 2D array? Demonstrate with the help of a code snippet"
   ]
  },
  {
   "cell_type": "code",
   "execution_count": 16,
   "metadata": {},
   "outputs": [
    {
     "name": "stdout",
     "output_type": "stream",
     "text": [
      "Shape of array :- (10,)\n",
      "\n",
      "---np.newaxis snippet---\n",
      "Shape of 2D array in row major :- (1, 10)\n",
      "Shape of 2D array in column major :- (10, 1)\n",
      "\n",
      "---np.expand_dims snippet---\n",
      "Shape of 2D array in row major :- (1, 10)\n",
      "Shape of 2D array in column major :- (10, 1)\n"
     ]
    }
   ],
   "source": [
    "import numpy as np\n",
    "\n",
    "arr = np.arange(10)\n",
    "print(\"Shape of array :-\", arr.shape)\n",
    "\n",
    "print(\"\\n---np.newaxis snippet---\")\n",
    "\n",
    "row_arr = arr[np.newaxis , :]\n",
    "print(\"Shape of 2D array in row major :-\", row_arr.shape)\n",
    "\n",
    "column_arr = arr[:, np.newaxis]\n",
    "print(\"Shape of 2D array in column major :-\", column_arr.shape)\n",
    "\n",
    "print(\"\\n---np.expand_dims snippet---\")\n",
    "\n",
    "row_arr1 = np.expand_dims(arr, axis=0)\n",
    "print(\"Shape of 2D array in row major :-\", row_arr1.shape)\n",
    "\n",
    "column_arr1 = np.expand_dims(arr, axis=1)\n",
    "print(\"Shape of 2D array in column major :-\", column_arr1.shape)\n"
   ]
  },
  {
   "cell_type": "markdown",
   "metadata": {},
   "source": [
    "# Question 5"
   ]
  },
  {
   "cell_type": "markdown",
   "metadata": {},
   "source": [
    "Consider two square numpy arrays. Stack them vertically and horizontally."
   ]
  },
  {
   "cell_type": "code",
   "execution_count": 24,
   "metadata": {},
   "outputs": [
    {
     "name": "stdout",
     "output_type": "stream",
     "text": [
      "Vertical Stack :-\n",
      " [[  1   4   9  16  25]\n",
      " [ 36  49  64  81 100]]\n",
      "\n",
      "Horizontal Stack :-\n",
      " [  1   4   9  16  25  36  49  64  81 100]\n"
     ]
    }
   ],
   "source": [
    "import numpy as np\n",
    "\n",
    "arr1 = np.square([1,2,3,4,5])\n",
    "arr2 = np.square([6,7,8,9,10])\n",
    "\n",
    "print(\"Vertical Stack :-\\n\", np.vstack((arr1, arr2)))\n",
    "print(\"\\nHorizontal Stack :-\\n\", np.hstack((arr1, arr2)))"
   ]
  },
  {
   "cell_type": "markdown",
   "metadata": {},
   "source": [
    "# Question 6"
   ]
  },
  {
   "cell_type": "markdown",
   "metadata": {},
   "source": [
    "How to get unique items and counts of unique items?"
   ]
  },
  {
   "cell_type": "markdown",
   "metadata": {},
   "source": [
    "numpy.unique\n",
    "\n",
    "This function returns an array of unique elements in the input array. The function can be able to return a tuple of array of unique vales and an array of associated indices."
   ]
  },
  {
   "cell_type": "code",
   "execution_count": 27,
   "metadata": {},
   "outputs": [
    {
     "name": "stdout",
     "output_type": "stream",
     "text": [
      "[[1 3]\n",
      " [2 1]\n",
      " [3 3]\n",
      " [4 2]]\n"
     ]
    }
   ],
   "source": [
    "import numpy as np\n",
    "\n",
    "arr = np.array([1, 1, 2, 3, 3, 3, 4, 4, 1])\n",
    "\n",
    "(unique, counts) = np.unique(arr, return_counts=True)\n",
    "frequencies = np.asarray((unique, counts)).T\n",
    "print (frequencies)"
   ]
  }
 ],
 "metadata": {
  "kernelspec": {
   "display_name": "Python 3",
   "language": "python",
   "name": "python3"
  },
  "language_info": {
   "codemirror_mode": {
    "name": "ipython",
    "version": 3
   },
   "file_extension": ".py",
   "mimetype": "text/x-python",
   "name": "python",
   "nbconvert_exporter": "python",
   "pygments_lexer": "ipython3",
   "version": "3.8.3"
  }
 },
 "nbformat": 4,
 "nbformat_minor": 4
}
