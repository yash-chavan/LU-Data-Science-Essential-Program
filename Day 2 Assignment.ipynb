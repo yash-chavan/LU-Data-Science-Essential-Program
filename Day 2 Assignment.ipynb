{
 "cells": [
  {
   "cell_type": "markdown",
   "metadata": {},
   "source": [
    "# Question 1"
   ]
  },
  {
   "cell_type": "markdown",
   "metadata": {},
   "source": [
    "Create an empty list. Accept 10 numbers from the user and append to it the list if it is an even number."
   ]
  },
  {
   "cell_type": "code",
   "execution_count": 10,
   "metadata": {},
   "outputs": [
    {
     "name": "stdout",
     "output_type": "stream",
     "text": [
      "Enter the number : 1\n",
      "Enter the number : 2\n",
      "Enter the number : 3\n",
      "Enter the number : 4\n",
      "Enter the number : 5\n",
      "Enter the number : 6\n",
      "Enter the number : 7\n",
      "Enter the number : 8\n",
      "Enter the number : 9\n",
      "Enter the number : 10\n",
      "Even numbers list : [2, 4, 6, 8, 10]\n"
     ]
    }
   ],
   "source": [
    "list = []\n",
    "for x in range(10):\n",
    "    a = int(input(\"Enter the number : \"))\n",
    "    list.append(a)\n",
    "\n",
    "even_list = []\n",
    "\n",
    "for q in list:\n",
    "    if(q%2==0):\n",
    "        even_list.append(q)\n",
    "        \n",
    "print(\"Even numbers list :\",even_list)"
   ]
  },
  {
   "cell_type": "markdown",
   "metadata": {},
   "source": [
    "# Question 2"
   ]
  },
  {
   "cell_type": "markdown",
   "metadata": {},
   "source": [
    "Create a notebook on LIST COMPREHENSION. This exercise is to put you in a Self learning mode."
   ]
  },
  {
   "cell_type": "markdown",
   "metadata": {},
   "source": [
    "List Comprehensions provide a concise way to create lists. Common applications are to make new lists where each element is the result of some operations applied to each member of another sequence or iterable, or to create a subsequence of those elements that satisfy a certain condition."
   ]
  },
  {
   "cell_type": "code",
   "execution_count": 11,
   "metadata": {},
   "outputs": [
    {
     "name": "stdout",
     "output_type": "stream",
     "text": [
      "[1, 3, 5, 7, 9]\n"
     ]
    }
   ],
   "source": [
    "list = [1,2,3,4,5,6,7,8,9,10]\n",
    "\n",
    "odd_list = [a for a in list if a%2==1]\n",
    "print(odd_list)"
   ]
  },
  {
   "cell_type": "markdown",
   "metadata": {},
   "source": [
    "# Question 3"
   ]
  },
  {
   "cell_type": "markdown",
   "metadata": {},
   "source": [
    "Given a number n, you have to write a program that generates a dictionary d which\n",
    "contains (i, i*i), where i is from 1 to n (both included).\n",
    "Then you have to just print this dictionary d."
   ]
  },
  {
   "cell_type": "code",
   "execution_count": 14,
   "metadata": {},
   "outputs": [
    {
     "name": "stdout",
     "output_type": "stream",
     "text": [
      "4\n",
      "{1: 1, 2: 4, 3: 9, 4: 16}\n"
     ]
    }
   ],
   "source": [
    "a = {}\n",
    "\n",
    "n = int(input())\n",
    "\n",
    "for i in range(1,n+1):\n",
    "    a[i] = i*i\n",
    "print(a)"
   ]
  },
  {
   "cell_type": "markdown",
   "metadata": {},
   "source": [
    "# Question 4"
   ]
  },
  {
   "cell_type": "markdown",
   "metadata": {},
   "source": [
    "There is a robot which wants to go the charging point to charge itself.\n",
    "The robot moves in a 2-D plane from the original point (0,0). The robot can\n",
    "move toward UP, DOWN, LEFT and RIGHT with given steps.\n",
    "The trace of robot movement is shown as the following:\n",
    "UP 5\n",
    "DOWN 3\n",
    "LEFT 3\n",
    "RIGHT 2\n",
    "Then, the output of the program should be:\n",
    "2\n",
    "The numbers after the direction are steps.\n",
    "Write a program to compute the distance between the current position after\n",
    "a sequence of movement and original point. If the distance is a float, then\n",
    "just print the nearest integer (use round() function for that and then convert\n",
    "it into an integer)."
   ]
  },
  {
   "cell_type": "code",
   "execution_count": 22,
   "metadata": {},
   "outputs": [
    {
     "name": "stdout",
     "output_type": "stream",
     "text": [
      "4\n",
      "UP 5\n",
      "DOWN 3\n",
      "LEFT 3\n",
      "RIGHT 2\n",
      "2\n"
     ]
    }
   ],
   "source": [
    "pos = {\"x\":0,\"y\":0}\n",
    "\n",
    "n = int(input())\n",
    "\n",
    "for i in range (n):\n",
    "    move =  input().split(\" \")\n",
    "    \n",
    "    if move[0].lower() == \"up\":\n",
    "        pos[\"y\"] += int(move[1])\n",
    "    \n",
    "    elif move[0].lower() == \"down\":\n",
    "        pos[\"y\"] -= int(move[1])\n",
    "    \n",
    "    elif move[0].lower() == \"left\":\n",
    "        pos[\"x\"] -= int(move[1])\n",
    "    \n",
    "    elif move[0].lower() == \"right\":\n",
    "        pos[\"x\"] += int(move[1])\n",
    "\n",
    "print(int(round((pos[\"x\"]**2 + pos[\"y\"]**2)**0.5)))"
   ]
  }
 ],
 "metadata": {
  "kernelspec": {
   "display_name": "Python 3",
   "language": "python",
   "name": "python3"
  },
  "language_info": {
   "codemirror_mode": {
    "name": "ipython",
    "version": 3
   },
   "file_extension": ".py",
   "mimetype": "text/x-python",
   "name": "python",
   "nbconvert_exporter": "python",
   "pygments_lexer": "ipython3",
   "version": "3.8.3"
  }
 },
 "nbformat": 4,
 "nbformat_minor": 4
}
